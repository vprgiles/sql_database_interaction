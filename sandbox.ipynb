{
 "cells": [
  {
   "cell_type": "code",
   "execution_count": 6,
   "id": "6225a89b",
   "metadata": {},
   "outputs": [],
   "source": [
    "import yaml\n",
    "from functions.pyodbc_functions import server_connection, create_new_database"
   ]
  },
  {
   "cell_type": "code",
   "execution_count": 10,
   "id": "ac1d921b",
   "metadata": {},
   "outputs": [],
   "source": [
    "server_name = r\"UK277994\\SQLEXPRESS22TEST\"\n",
    "with open('secrets.yaml', 'r') as file: \n",
    "    creds = yaml.safe_load(file)['pyodbc']"
   ]
  },
  {
   "cell_type": "code",
   "execution_count": 17,
   "id": "eab49d7c",
   "metadata": {},
   "outputs": [
    {
     "data": {
      "text/plain": [
       "'py_app_user_odbc'"
      ]
     },
     "execution_count": 17,
     "metadata": {},
     "output_type": "execute_result"
    }
   ],
   "source": [
    "creds[0]"
   ]
  },
  {
   "cell_type": "code",
   "execution_count": 12,
   "id": "efbd9cb9",
   "metadata": {},
   "outputs": [
    {
     "ename": "TypeError",
     "evalue": "cannot unpack non-iterable InterfaceError object",
     "output_type": "error",
     "traceback": [
      "\u001b[31m---------------------------------------------------------------------------\u001b[39m",
      "\u001b[31mTypeError\u001b[39m                                 Traceback (most recent call last)",
      "\u001b[36mCell\u001b[39m\u001b[36m \u001b[39m\u001b[32mIn[12]\u001b[39m\u001b[32m, line 1\u001b[39m\n\u001b[32m----> \u001b[39m\u001b[32m1\u001b[39m conn, cursor = server_connection(server_name, creds)\n",
      "\u001b[31mTypeError\u001b[39m: cannot unpack non-iterable InterfaceError object"
     ]
    }
   ],
   "source": [
    "conn, cursor = server_connection(server_name, creds)"
   ]
  },
  {
   "cell_type": "code",
   "execution_count": null,
   "id": "17fbe076",
   "metadata": {
    "vscode": {
     "languageId": "go"
    }
   },
   "outputs": [],
   "source": [
    "connection = pyodbc.connect(\n",
    "                                      \"DRIVER={ODBC Driver 17 for SQL Server};\"\n",
    "                                     f\"SERVER={server_name};\"\n",
    "                                      \"DATABASE=master;\"\n",
    "                                     f\"UID={creds[0]};\"\n",
    "                                     f\"PWD={creds[1]};\",\n",
    "                                     autocommit=False\n",
    "        )\n",
    "cursor = connection.cursor()"
   ]
  },
  {
   "cell_type": "code",
   "execution_count": null,
   "id": "898fcc65",
   "metadata": {},
   "outputs": [],
   "source": []
  }
 ],
 "metadata": {
  "kernelspec": {
   "display_name": ".env",
   "language": "python",
   "name": "python3"
  },
  "language_info": {
   "codemirror_mode": {
    "name": "ipython",
    "version": 3
   },
   "file_extension": ".py",
   "mimetype": "text/x-python",
   "name": "python",
   "nbconvert_exporter": "python",
   "pygments_lexer": "ipython3",
   "version": "3.12.3"
  }
 },
 "nbformat": 4,
 "nbformat_minor": 5
}
